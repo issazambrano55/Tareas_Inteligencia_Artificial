{
  "nbformat": 4,
  "nbformat_minor": 0,
  "metadata": {
    "colab": {
      "provenance": [],
      "authorship_tag": "ABX9TyOsma9skgPa44BZaHlK8J9W",
      "include_colab_link": true
    },
    "kernelspec": {
      "name": "python3",
      "display_name": "Python 3"
    },
    "language_info": {
      "name": "python"
    }
  },
  "cells": [
    {
      "cell_type": "markdown",
      "metadata": {
        "id": "view-in-github",
        "colab_type": "text"
      },
      "source": [
        "<a href=\"https://colab.research.google.com/github/issazambrano55/Tareas_Inteligencia_Artificial/blob/main/Tarea%231_IA.ipynb\" target=\"_parent\"><img src=\"https://colab.research.google.com/assets/colab-badge.svg\" alt=\"Open In Colab\"/></a>"
      ]
    },
    {
      "cell_type": "code",
      "execution_count": 5,
      "metadata": {
        "colab": {
          "base_uri": "https://localhost:8080/"
        },
        "id": "HzmWehHflvMu",
        "outputId": "929ce1ee-246e-4505-97f6-6f0285cbff2e"
      },
      "outputs": [
        {
          "output_type": "stream",
          "name": "stdout",
          "text": [
            "El número mayor es: 15\n"
          ]
        }
      ],
      "source": [
        "numero_mayor = [3, 9, 4, 1, 15]\n",
        "\n",
        "mayor = numero_mayor[0]\n",
        "for num in numero_mayor:\n",
        "    if num > mayor:\n",
        "        mayor = num\n",
        "\n",
        "print(\"El número mayor es:\", mayor)\n"
      ]
    },
    {
      "cell_type": "code",
      "source": [
        "numero = int(input(\"Debe ingresa un número: \"))\n",
        "\n",
        "for i in range(1, 11):\n",
        "    tablamultiplicar = numero * i\n",
        "    print(f\"{numero} × {i} = {tablamultiplicar}\")\n"
      ],
      "metadata": {
        "colab": {
          "base_uri": "https://localhost:8080/"
        },
        "id": "NnIk2SCFME1l",
        "outputId": "250c9834-8e61-4f10-89bf-afdb45b8a108"
      },
      "execution_count": 11,
      "outputs": [
        {
          "output_type": "stream",
          "name": "stdout",
          "text": [
            "Ingresa un número: 8\n",
            "8 × 1 = 8\n",
            "8 × 2 = 16\n",
            "8 × 3 = 24\n",
            "8 × 4 = 32\n",
            "8 × 5 = 40\n",
            "8 × 6 = 48\n",
            "8 × 7 = 56\n",
            "8 × 8 = 64\n",
            "8 × 9 = 72\n",
            "8 × 10 = 80\n"
          ]
        }
      ]
    },
    {
      "cell_type": "code",
      "source": [
        "\n",
        "lista_repetidos = [4, 2, 7, 4, 2, 1, 9, 7]\n",
        "lista_unicos = []\n",
        "\n",
        "for numero in lista_repetidos:\n",
        "\n",
        "  if numero not in lista_unicos:\n",
        "        lista_unicos.append(numero)\n",
        "        lista_unicos.sort()\n",
        "\n",
        "print(\"Presntar lista ordenada y sin numeros repetidos:\", lista_unicos)\n",
        "\n"
      ],
      "metadata": {
        "colab": {
          "base_uri": "https://localhost:8080/"
        },
        "id": "-e3iAVgzcuPD",
        "outputId": "13ce60ba-af03-42b2-b907-4d000879c949"
      },
      "execution_count": 14,
      "outputs": [
        {
          "output_type": "stream",
          "name": "stdout",
          "text": [
            "Presntar lista ordenada y sin numeros repetidos: [1, 2, 4, 7, 9]\n"
          ]
        }
      ]
    },
    {
      "cell_type": "code",
      "source": [
        "notas = {}\n",
        "\n",
        "\n",
        "while True:\n",
        "    nombre = input(\"Ingrese el nombre del estudiante cuya nota quiere saber: \")\n",
        "\n",
        "    if nombre.lower() == 'salir':\n",
        "        break\n",
        "\n",
        "    nota = input(\"Ingrese la nota de \" + nombre + \": \")\n",
        "    nota = float(nota)\n",
        "\n",
        "    notas[nombre] = nota\n",
        "\n",
        "\n",
        "print(\"\\nNotas guardadas:\")\n",
        "print(notas)"
      ],
      "metadata": {
        "colab": {
          "base_uri": "https://localhost:8080/"
        },
        "id": "yjgv875sw2Jp",
        "outputId": "5965c389-fd05-4936-e837-b271e38ff7ca"
      },
      "execution_count": 16,
      "outputs": [
        {
          "output_type": "stream",
          "name": "stdout",
          "text": [
            "Ingrese el nombre del estudiante cuya nota quiere saber: Amby\n",
            "Ingrese la nota de Amby: 100\n",
            "Ingrese el nombre del estudiante cuya nota quiere saber: Pablo\n",
            "Ingrese la nota de Pablo: 89\n",
            "Ingrese el nombre del estudiante cuya nota quiere saber: Arley \n",
            "Ingrese la nota de Arley : 10\n",
            "Ingrese el nombre del estudiante cuya nota quiere saber: Obed\n",
            "Ingrese la nota de Obed: 86\n",
            "Ingrese el nombre del estudiante cuya nota quiere saber: salir\n",
            "\n",
            "Notas guardadas:\n",
            "{'Amby': 100.0, 'Pablo': 89.0, 'Arley ': 10.0, 'Obed': 86.0}\n"
          ]
        }
      ]
    },
    {
      "cell_type": "code",
      "source": [
        "ventas = {\n",
        "    'Producto': ['A', 'B', 'A', 'C', 'B', 'A'],\n",
        "    'Cantidad': [10, 5, 7, 3, 2, 8]\n",
        "}\n",
        "\n",
        "ventas_total = {}\n",
        "\n",
        "\n",
        "for i in range(len(ventas['Producto'])):\n",
        "    producto = ventas['Producto'][i]\n",
        "    cantidad = ventas['Cantidad'][i]\n",
        "\n",
        "    if producto in ventas_total:\n",
        "        ventas_total[producto] += cantidad\n",
        "    else:\n",
        "        ventas_total[producto] = cantidad\n",
        "\n",
        "print(ventas_total)"
      ],
      "metadata": {
        "colab": {
          "base_uri": "https://localhost:8080/"
        },
        "id": "l-DphhU73sBz",
        "outputId": "a0dc78d1-53ab-40a3-d8ee-2f6e3a7476ac"
      },
      "execution_count": 17,
      "outputs": [
        {
          "output_type": "stream",
          "name": "stdout",
          "text": [
            "{'A': 25, 'B': 7, 'C': 3}\n"
          ]
        }
      ]
    }
  ]
}